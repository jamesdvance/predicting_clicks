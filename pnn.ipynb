{
 "cells": [
  {
   "cell_type": "markdown",
   "metadata": {},
   "source": [
    "# Implementing PNN\n",
    "\n",
    "[Product-Based Neural Networks For User Response Prediction](https://arxiv.org/pdf/1611.00144v1.pdf)\n",
    "\n",
    "https://github.com/Atomu2014/product-nets"
   ]
  },
  {
   "cell_type": "markdown",
   "metadata": {},
   "source": [
    "### Tensorflow Implementation\n",
    "![Product Based Neural Network](images/product_neural_net.png)"
   ]
  },
  {
   "cell_type": "code",
   "execution_count": 1,
   "metadata": {},
   "outputs": [],
   "source": [
    "import tensorflow as tf"
   ]
  },
  {
   "cell_type": "code",
   "execution_count": null,
   "metadata": {},
   "outputs": [],
   "source": [
    "def keras_pnn(X_train):\n",
    "    cat_inputs = tf.keras.layers.Inputs()\n",
    "    cat_embed = tf.keras.layers.Embedding()(cat_inputs)\n",
    "    tf.keras.initializers.Ones()\n",
    "    # Concat ones and embeddings\n",
    "    pairwise_inputs = tf.concat(cat_inputs, cat_embed)\n",
    "    tf.keras.layers.Multiply()\n",
    "    # Multiply keras\n",
    "    tf.keras.layers.Dense()\n",
    "    tf.keras.layers.BatchNormalization()\n",
    "    tf.keras.layers.Dropout\n",
    "    tf.keras.layers.Dense()\n",
    "    tf.keras.layers.BatchNormalization()\n",
    "    tf.keras.layers.Dropout\n",
    "    tf.keras.layers.Dense()\n",
    "    return model"
   ]
  }
 ],
 "metadata": {
  "kernelspec": {
   "display_name": "Python [conda env:tf_2_env]",
   "language": "python",
   "name": "conda-env-tf_2_env-py"
  },
  "language_info": {
   "codemirror_mode": {
    "name": "ipython",
    "version": 3
   },
   "file_extension": ".py",
   "mimetype": "text/x-python",
   "name": "python",
   "nbconvert_exporter": "python",
   "pygments_lexer": "ipython3",
   "version": "3.8.5"
  }
 },
 "nbformat": 4,
 "nbformat_minor": 4
}
